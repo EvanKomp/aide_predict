{
 "cells": [
  {
   "cell_type": "markdown",
   "metadata": {},
   "source": [
    "# Ensure that the MSAprocessing class that wraps tranception one produces the same output\n",
    "\n",
    "***\n",
    "## Ours"
   ]
  },
  {
   "cell_type": "code",
   "execution_count": 3,
   "metadata": {},
   "outputs": [],
   "source": [
    "import logging\n",
    "logging.basicConfig(level=logging.DEBUG)\n",
    "logger = logging.getLogger()\n"
   ]
  },
  {
   "cell_type": "code",
   "execution_count": 2,
   "metadata": {},
   "outputs": [
    {
     "name": "stderr",
     "output_type": "stream",
     "text": [
      "INFO:numexpr.utils:Note: NumExpr detected 14 cores but \"NUMEXPR_MAX_THREADS\" not set, so enforcing safe limit of 8.\n",
      "INFO:numexpr.utils:NumExpr defaulting to 8 threads.\n"
     ]
    }
   ],
   "source": [
    "from aide_predict.utils.msa import MSAProcessing, MSAProcessingArgs"
   ]
  },
  {
   "cell_type": "code",
   "execution_count": 3,
   "metadata": {},
   "outputs": [],
   "source": [
    "args = MSAProcessingArgs(\n",
    "    theta=0.2,\n",
    "    use_weights=True,\n",
    "    preprocess_MSA=True,\n",
    "    threshold_sequence_frac_gaps=0.5,\n",
    "    threshold_focus_cols_frac_gaps=0.3,\n",
    "    remove_sequences_with_indeterminate_AA_in_focus_cols=True\n",
    ")"
   ]
  },
  {
   "cell_type": "code",
   "execution_count": 7,
   "metadata": {},
   "outputs": [
    {
     "name": "stderr",
     "output_type": "stream",
     "text": [
      "INFO:aide_predict.utils.msa:Loaded MSA with 4743 sequences, target sequence: >UBE4B_MOUSE/1-1173\n",
      "INFO:aide_predict.utils.msa:Original width of MSA: 1173\n",
      "INFO:aide_predict.utils.msa:Removed gap columns in target sequence: remaining width 1173\n",
      "INFO:aide_predict.utils.msa:Proportion of sequences dropped due to fraction of gaps: 0.0%\n",
      "INFO:aide_predict.utils.msa:Proportion of non-focus columns removed: 23.53%\n",
      "INFO:aide_predict.utils.msa:Encoding sequences\n",
      "INFO:aide_predict.utils.msa:Computing sequence weights\n",
      "100%|██████████| 4681/4681 [00:28<00:00, 162.30it/s]\n",
      "INFO:aide_predict.utils.msa:Neff (effictive sequence count) = 674.2336460913948\n",
      "INFO:aide_predict.utils.msa:Data Shape = (4681, 897, 20)\n"
     ]
    }
   ],
   "source": [
    "msa = MSAProcessing(args)\n",
    "msa.process(\n",
    "    '/Users/ekomp/Documents/datasets/protein_gym/msas/UBE4B_MOUSE_full_11-26-2021_b05.a2m', \n",
    "    weights_location='/Users/ekomp/Documents/repos/lab/aide_predict/notebooks/tmp/our_weights.npy',\n",
    "    focus_seq_id='UBE4B_MOUSE',\n",
    "    new_a2m_location='./tmp/our_msa.a2m'\n",
    ")"
   ]
  },
  {
   "cell_type": "markdown",
   "metadata": {},
   "source": [
    "## Now theirs\n",
    "\n",
    "Change to their environment and cd to their repo, since they do not provide importable modules."
   ]
  },
  {
   "cell_type": "code",
   "execution_count": 4,
   "metadata": {},
   "outputs": [],
   "source": [
    "import os"
   ]
  },
  {
   "cell_type": "code",
   "execution_count": 4,
   "metadata": {},
   "outputs": [],
   "source": [
    "os.chdir('/Users/ekomp/Documents/repos/Tranception')"
   ]
  },
  {
   "cell_type": "code",
   "execution_count": 4,
   "metadata": {},
   "outputs": [],
   "source": [
    "from  tranception.utils.msa_utils import MSA_processing"
   ]
  },
  {
   "cell_type": "code",
   "execution_count": 6,
   "metadata": {},
   "outputs": [],
   "source": [
    "processing = MSA_processing(\n",
    "    MSA_location='/Users/ekomp/Documents/datasets/protein_gym/msas/UBE4B_MOUSE_full_11-26-2021_b05.a2m',\n",
    "    theta=0.2,\n",
    "    use_weights=True,\n",
    "    preprocess_MSA=True,\n",
    "    threshold_sequence_frac_gaps=0.5,\n",
    "    threshold_focus_cols_frac_gaps=0.3,\n",
    "    remove_sequences_with_indeterminate_AA_in_focus_cols=True,\n",
    "    weights_location='/Users/ekomp/Documents/repos/lab/aide_predict/notebooks/tmp/their_weights.npy',\n",
    ")"
   ]
  },
  {
   "cell_type": "code",
   "execution_count": 7,
   "metadata": {},
   "outputs": [
    {
     "data": {
      "text/plain": [
       "674.2336460913948"
      ]
     },
     "execution_count": 7,
     "metadata": {},
     "output_type": "execute_result"
    }
   ],
   "source": [
    "processing.Neff"
   ]
  },
  {
   "cell_type": "code",
   "execution_count": 10,
   "metadata": {},
   "outputs": [
    {
     "data": {
      "text/plain": [
       "(4681, 897, 20)"
      ]
     },
     "execution_count": 10,
     "metadata": {},
     "output_type": "execute_result"
    }
   ],
   "source": [
    "processing.one_hot_encoding.shape"
   ]
  },
  {
   "cell_type": "code",
   "execution_count": 12,
   "metadata": {},
   "outputs": [
    {
     "data": {
      "text/plain": [
       "(4681,)"
      ]
     },
     "execution_count": 12,
     "metadata": {},
     "output_type": "execute_result"
    }
   ],
   "source": [
    "processing.weights.shape"
   ]
  },
  {
   "cell_type": "markdown",
   "metadata": {},
   "source": [
    "## Check for weight equality"
   ]
  },
  {
   "cell_type": "code",
   "execution_count": 13,
   "metadata": {},
   "outputs": [],
   "source": [
    "import numpy as np"
   ]
  },
  {
   "cell_type": "code",
   "execution_count": 14,
   "metadata": {},
   "outputs": [],
   "source": [
    "ours = np.load('/Users/ekomp/Documents/repos/lab/aide_predict/notebooks/tmp/our_weights.npy')\n",
    "theirs = np.load('/Users/ekomp/Documents/repos/lab/aide_predict/notebooks/tmp/their_weights.npy')"
   ]
  },
  {
   "cell_type": "code",
   "execution_count": 16,
   "metadata": {},
   "outputs": [
    {
     "name": "stdout",
     "output_type": "stream",
     "text": [
      "(4681,)\n",
      "(4681,)\n"
     ]
    }
   ],
   "source": [
    "print(ours.shape)\n",
    "print(theirs.shape)"
   ]
  },
  {
   "cell_type": "code",
   "execution_count": 17,
   "metadata": {},
   "outputs": [
    {
     "data": {
      "text/plain": [
       "True"
      ]
     },
     "execution_count": 17,
     "metadata": {},
     "output_type": "execute_result"
    }
   ],
   "source": [
    "np.isclose(ours, theirs).all()"
   ]
  },
  {
   "cell_type": "markdown",
   "metadata": {},
   "source": [
    "Yay!! Our wrapper did not break anything"
   ]
  },
  {
   "cell_type": "markdown",
   "metadata": {},
   "source": [
    "## Can we pass our preprocessed MSA and weights to tranception and skip preprocessing?\n",
    "\n",
    "This is the function that is called in the tracneption wrapper. We will call it directly with our preprocessed MSA and weights as well as let them do it and compare the outputs."
   ]
  },
  {
   "cell_type": "code",
   "execution_count": 2,
   "metadata": {},
   "outputs": [],
   "source": [
    "import os"
   ]
  },
  {
   "cell_type": "code",
   "execution_count": 3,
   "metadata": {},
   "outputs": [],
   "source": [
    "os.chdir('/Users/ekomp/Documents/repos/Tranception')"
   ]
  },
  {
   "cell_type": "code",
   "execution_count": 4,
   "metadata": {},
   "outputs": [
    {
     "name": "stdout",
     "output_type": "stream",
     "text": [
      "Intel MKL WARNING: Support of Intel(R) Streaming SIMD Extensions 4.2 (Intel(R) SSE4.2) enabled only processors has been deprecated. Intel oneAPI Math Kernel Library 2025.0 will require Intel(R) Advanced Vector Extensions (Intel(R) AVX) instructions.\n",
      "Intel MKL WARNING: Support of Intel(R) Streaming SIMD Extensions 4.2 (Intel(R) SSE4.2) enabled only processors has been deprecated. Intel oneAPI Math Kernel Library 2025.0 will require Intel(R) Advanced Vector Extensions (Intel(R) AVX) instructions.\n"
     ]
    }
   ],
   "source": [
    "from  tranception.utils.msa_utils import get_msa_prior\n",
    "from transformers import PreTrainedTokenizerFast"
   ]
  },
  {
   "cell_type": "code",
   "execution_count": 5,
   "metadata": {},
   "outputs": [],
   "source": [
    "tokenizer = PreTrainedTokenizerFast(tokenizer_file=\"./tranception/utils/tokenizers/Basic_tokenizer\",\n",
    "                                                unk_token=\"[UNK]\",\n",
    "                                                sep_token=\"[SEP]\",\n",
    "                                                pad_token=\"[PAD]\",\n",
    "                                                cls_token=\"[CLS]\",\n",
    "                                                mask_token=\"[MASK]\"\n",
    "                                            )"
   ]
  },
  {
   "cell_type": "code",
   "execution_count": 19,
   "metadata": {},
   "outputs": [
    {
     "name": "stdout",
     "output_type": "stream",
     "text": [
      "Target seq len is 1173, MSA length is 1173, start position is 0, end position is 1173 and vocab size is 25\n",
      "Num sequences in MSA pre filtering: 4743\n",
      "Num sequences in MSA post filtering: 4222\n",
      "Using weights in /Users/ekomp/Documents/repos/lab/aide_predict/notebooks/tmp/their_weights.npy for sequences in MSA.\n",
      "Dropped 44 sequences from MSA due to absent sequence weights\n"
     ]
    }
   ],
   "source": [
    "# from original msa\n",
    "their_prior = get_msa_prior(\n",
    "    MSA_data_file='/Users/ekomp/Documents/datasets/protein_gym/msas/UBE4B_MOUSE_full_11-26-2021_b05.a2m',\n",
    "    MSA_weight_file_name='/Users/ekomp/Documents/repos/lab/aide_predict/notebooks/tmp/their_weights.npy',\n",
    "    MSA_start=0,\n",
    "    MSA_end=1173,\n",
    "    len_target_seq=1173,\n",
    "    vocab=tokenizer.get_vocab(),\n",
    "    verbose=True\n",
    ")"
   ]
  },
  {
   "cell_type": "code",
   "execution_count": 20,
   "metadata": {},
   "outputs": [
    {
     "data": {
      "text/plain": [
       "(1173, 25)"
      ]
     },
     "execution_count": 20,
     "metadata": {},
     "output_type": "execute_result"
    }
   ],
   "source": [
    "their_prior.shape"
   ]
  },
  {
   "cell_type": "code",
   "execution_count": 21,
   "metadata": {},
   "outputs": [
    {
     "data": {
      "text/plain": [
       "array([[8.75199031e-05, 8.75199031e-05, 8.75199031e-05, ...,\n",
       "        8.75199031e-05, 8.75199031e-05, 8.75199031e-05],\n",
       "       [7.78224310e-05, 7.78224310e-05, 7.78224310e-05, ...,\n",
       "        7.78224310e-05, 7.78224310e-05, 7.78224310e-05],\n",
       "       [6.71182114e-05, 6.71182114e-05, 6.71182114e-05, ...,\n",
       "        6.71182114e-05, 6.71182114e-05, 6.71182114e-05],\n",
       "       ...,\n",
       "       [8.71164588e-03, 8.71164588e-03, 8.71164588e-03, ...,\n",
       "        8.71164588e-03, 8.71164588e-03, 8.71164588e-03],\n",
       "       [8.87832036e-03, 8.87832036e-03, 8.87832036e-03, ...,\n",
       "        8.87832036e-03, 8.87832036e-03, 8.87832036e-03],\n",
       "       [3.97867107e-02, 3.97867107e-02, 3.97867107e-02, ...,\n",
       "        3.97867107e-02, 3.97867107e-02, 3.97867107e-02]])"
      ]
     },
     "execution_count": 21,
     "metadata": {},
     "output_type": "execute_result"
    }
   ],
   "source": [
    "their_prior"
   ]
  },
  {
   "cell_type": "code",
   "execution_count": 9,
   "metadata": {},
   "outputs": [
    {
     "data": {
      "text/plain": [
       "1.0000000000000573"
      ]
     },
     "execution_count": 9,
     "metadata": {},
     "output_type": "execute_result"
    }
   ],
   "source": [
    "their_prior[3,:].sum()"
   ]
  },
  {
   "cell_type": "code",
   "execution_count": 27,
   "metadata": {},
   "outputs": [
    {
     "data": {
      "text/plain": [
       "<BarContainer object of 25 artists>"
      ]
     },
     "execution_count": 27,
     "metadata": {},
     "output_type": "execute_result"
    },
    {
     "data": {
      "image/png": "[encoded data removed]",
      "text/plain": [
       "<Figure size 640x480 with 1 Axes>"
      ]
     },
     "metadata": {},
     "output_type": "display_data"
    }
   ],
   "source": [
    "# show the distribution over AA of the third column\n",
    "import matplotlib.pyplot as plt\n",
    "plt.bar(tokenizer.convert_ids_to_tokens(range(25)), their_prior[2,:])"
   ]
  },
  {
   "cell_type": "code",
   "execution_count": 29,
   "metadata": {},
   "outputs": [],
   "source": [
    "import numpy as np\n",
    "np.save('/Users/ekomp/Documents/repos/lab/aide_predict/notebooks/tmp/their_prior.npy', their_prior)"
   ]
  },
  {
   "cell_type": "markdown",
   "metadata": {},
   "source": [
    "## Manually update weights using our class, see if those track back to the prior"
   ]
  },
  {
   "cell_type": "code",
   "execution_count": 1,
   "metadata": {},
   "outputs": [],
   "source": [
    "import logging\n",
    "logging.basicConfig(level=logging.DEBUG)\n",
    "logger = logging.getLogger()\n"
   ]
  },
  {
   "cell_type": "code",
   "execution_count": 2,
   "metadata": {},
   "outputs": [
    {
     "name": "stderr",
     "output_type": "stream",
     "text": [
      "INFO:numexpr.utils:Note: NumExpr detected 14 cores but \"NUMEXPR_MAX_THREADS\" not set, so enforcing safe limit of 8.\n",
      "INFO:numexpr.utils:NumExpr defaulting to 8 threads.\n"
     ]
    }
   ],
   "source": [
    "from aide_predict.utils.msa import MSAProcessing, MSAProcessingArgs"
   ]
  },
  {
   "cell_type": "code",
   "execution_count": 3,
   "metadata": {},
   "outputs": [],
   "source": [
    "args = MSAProcessingArgs(\n",
    "    theta=0.2,\n",
    "    use_weights=True,\n",
    "    preprocess_MSA=True,\n",
    "    threshold_sequence_frac_gaps=0.5,\n",
    "    threshold_focus_cols_frac_gaps=0.3,\n",
    "    remove_sequences_with_indeterminate_AA_in_focus_cols=True\n",
    ")"
   ]
  },
  {
   "cell_type": "code",
   "execution_count": 4,
   "metadata": {},
   "outputs": [],
   "source": [
    "ids = []\n",
    "seqs = []\n",
    "with open('/Users/ekomp/Documents/datasets/protein_gym/msas/UBE4B_MOUSE_full_11-26-2021_b05.a2m', 'r') as f:\n",
    "    lines = f.readlines()\n",
    "    # get ids and sequences, may be a multiline fasta\n",
    "    for line in lines:\n",
    "        if line.startswith('>'):\n",
    "            ids.append(line.strip())\n",
    "            seqs.append('')\n",
    "        else:\n",
    "            seqs[-1] += line.strip()\n",
    "            "
   ]
  },
  {
   "cell_type": "code",
   "execution_count": 5,
   "metadata": {},
   "outputs": [
    {
     "data": {
      "text/plain": [
       "['>UniRef100_UPI0005404ECA/1-1172', '>UniRef100_H9EN76/1-1172']"
      ]
     },
     "execution_count": 5,
     "metadata": {},
     "output_type": "execute_result"
    }
   ],
   "source": [
    "ids[3:5]"
   ]
  },
  {
   "cell_type": "code",
   "execution_count": 6,
   "metadata": {},
   "outputs": [
    {
     "data": {
      "text/plain": [
       "['meelsadeirrrrlarlaggqtsqpttpltspqrenppgppiaasapgpsqslglnvhsmtpatspigasgvahrsqssegvsslssspsnsletqsqslsrsqsmdidgvsceksmsqvdvdsgienmevdesdrrekrslsdkepasgsevseeqalqlvckifrvswkdrdrdviflsslsaqfkqnpkevfsdfkdligqilmevlmmstqtrdenpfasltatsqpiaaaarspdrnlmlntgsnpgtsPMFCSVGSFSASSLSSLGASGGASTWDSYSDHFTIETCKETDMLNYLIECFDRIGIEEKKAPKmcsQPAVSQLLSNIRSQCISHTALVLQGSLTQPRSMQQPSFLVPYMLCRNLPYGFIQELVRTTHQDEEVFKQIFIPILQGLALAVKECSLDSDYFKYPLMALGELCETKfgkthPVCNLVASLPLWLPKSlsPGSGRELQRLSYLGAFFSFSVFAEdDAKVVEKYFSGPAITLENTRVVSQSLQHYLELGRQELFKILHSILLNGETREAALSYMAAVVNANMKKAQMQTDDRLVSTDGFMLNFLWVLQQLSTKIKLETVDPTYIFHPRCRIALPNDETRVNATMEDVNDWLTELYGdQPPFSEPKFPTECFFLTLHAHHLSILPSCRRYIRRLRAIRELNRTVEDLKNNESqwKDSPlatRHREMLKRCKTQLKKLVRCKACADAGLLDESFLRRCLNFYGLLIQLLLRILDPAYPDVTLPLNSDVPKVFAALPEFYVEDVAEFLFFIVQYSPQVLYEPCTQDIVMFLVVMLCNQNYIRNPYLVAKLVEVMFMTNPAVQPRTQKFFEMIENHPLSTKLLVPSLMKFYTDVEHTGATSEFYDKFTIRYHISTIFKSLWQNIAHHGTFMEEFNSGKQFVRYINMLINDTTFLLDESLESLKRIHEVQEEMKNkEQWDQLPRDQQQARQSQLAQDERVSRSYLALATETVDMFHILTKQVQKPFLRPELGPRLAAMLNFNLQQLCGPKCRDLKVENPEKYGFEPKKLLDQLTDIYLQLDCARFAKAIADDQRSYSKELFEEVISKMRKAGIKSTIAIEKFKLLAEKVEEIVAKNARAEIDYSDAPDEFRDPLMDTLMTDPVRLPSGTIMDRSIILRHLLNSPTDPFNRQTLTESMLEPVPELKEQIHAWMKEKQnsd.',\n",
       " 'meelsadeirrrrlarlaggqtsqpttpltspqrenppgppiaasapgpsqslglnvhnmtpatspigasgvahrsqssegvsslssspsnsletqsqslsrsqsmdidgvsceksmsqvdvdsgienmevdendrrekrslsdkepssgpevseeqalqlvckifrvswkdrdrdviflsslsaqfkqnpkevfsdfkdligqilmevlmmstqtrdenpfasltatsqpiaaaarspdrnlllntgsnpgtsPMFCNVGSFGASSLSSLGASGGASNWDSYSDHFTIETCKETDMLNYLIECFDRVGIEEKKAPKmcsQPAVSQLLSNIRSQCISHTALVLQGSLTQPRSLQQPSFLVPYMLCRNLPYGFIQELVRTTHQDEEVFKQIFIPILQGLALAAKECSLDSDYFKYPLMALGELCETKfgkthPVCNLVASLPLWLPKSlsPGCGRELQRLSYLGAFFSFSVFAEdDVKVVEKYFSGPAITLENTRVVSQSLQHYLELGRQELFKILHSILLNGETREAALSYMAAVVNANMKKAQMQTDDRLVSTDGFMLNFLWVLQQLSTKIKLETVDPTYIFHPRCRITLPNDETRVNATMEDVNDWLTELYGdQPPFSEPKFPTECFFLTLHAHHLSILPSCRRYIRRLRAIRELNRTVEDLKNNESqwKDSPlatRHREMLKRCKTQLKKLVRCKACADAGLLDESFLRRCLNFYGLLIQLLLRILDPAYPDITLPLNSDVPKVFAALPEFYVEDVAEFLFFIVQYSPQALYEPCTQDIVMFLVVMLCNQNYIRNPYLVAKLVEVMFMTNPAVQPRTQKFFEMIENHPLSTKLLVPSLMKFYTDVEHTGATSEFYDKFTIRYHISTIFKSLWQNIAHHGTFMEEFNSGKQFVRYINMLINDTTFLLDESLESLKRIHEVQEEMKNkEQWDQLPRDQQQARQSQLAQDERVSRSYLALATETVDMFHILTKQVQKPFLRPELGPRLAAMLNFNLQQLCGPKCRDLKVENPEKYGFEPKKLLDQLTDIYLQLDCARFAKAIADDQRSYSKELFEEVISKMRKAGIKSTIAIEKFKLLAEKVEEIVAKNARAEIDYSDAPDEFRDPLMDTLMTDPVRLPSGTIMDRSIILRHLLNSPTDPFNRQTLTESMLEPVPELKEQIQAWMREKQnsd.']"
      ]
     },
     "execution_count": 6,
     "metadata": {},
     "output_type": "execute_result"
    }
   ],
   "source": [
    "seqs[3:5]"
   ]
  },
  {
   "cell_type": "code",
   "execution_count": 11,
   "metadata": {},
   "outputs": [],
   "source": [
    "base_ids = [id_.split('/')[0][1:] for id_ in ids]"
   ]
  },
  {
   "cell_type": "code",
   "execution_count": 12,
   "metadata": {},
   "outputs": [
    {
     "data": {
      "text/plain": [
       "['UBE4B_MOUSE',\n",
       " 'UniRef100_A0A3Q1MHZ2',\n",
       " 'UniRef100_A0A6P7EN75',\n",
       " 'UniRef100_UPI0005404ECA',\n",
       " 'UniRef100_H9EN76',\n",
       " 'UniRef100_UPI0003C8196B',\n",
       " 'UniRef100_A0A6J0X9A8',\n",
       " 'UniRef100_A0A287DGC2',\n",
       " 'UniRef100_A0A6P5PSI2',\n",
       " 'UniRef100_UPI0012372CAE',\n",
       " 'UniRef100_A0A7J8FDS4',\n",
       " 'UniRef100_UPI0007623FDE',\n",
       " 'UniRef100_G3SJP0',\n",
       " 'UniRef100_A0A5E4D394',\n",
       " 'UniRef100_UPI00193D53E5',\n",
       " 'UniRef100_A0A2J8USD7',\n",
       " 'UniRef100_A0A1U7UDL5',\n",
       " 'UniRef100_UPI00141B6B2D',\n",
       " 'UniRef100_UPI0013F392E1',\n",
       " 'UniRef100_UPI00093F1F8C',\n",
       " 'UniRef100_F1M8V2',\n",
       " 'UniRef100_UPI00046BEB86',\n",
       " 'UniRef100_UPI000C2B3515',\n",
       " 'UniRef100_UPI000DC1AADA',\n",
       " 'UniRef100_UPI0018B0D349',\n",
       " 'UniRef100_A0A2K5YN99',\n",
       " 'UniRef100_A0A2K5IVP6',\n",
       " 'UniRef100_F7HC77',\n",
       " 'UniRef100_UPI00051BBA59',\n",
       " 'UniRef100_UPI000B3E3D49',\n",
       " 'UniRef100_A0A6J3JP21',\n",
       " 'UniRef100_UPI00189DC790',\n",
       " 'UniRef100_UPI0018E38222',\n",
       " 'UniRef100_UPI001485C85F',\n",
       " 'UniRef100_UPI00129D8060',\n",
       " 'UniRef100_UPI0004D0AE89',\n",
       " 'UniRef100_UPI0003293034',\n",
       " 'UniRef100_UPI0007A6DA66',\n",
       " 'UniRef100_A0A3Q7SXZ4',\n",
       " 'UniRef100_A0A2U3WPT6',\n",
       " 'UniRef100_UPI0015D596ED',\n",
       " 'UniRef100_A0A1D5P1D5',\n",
       " 'UniRef100_UPI0010A0EABE',\n",
       " 'UniRef100_UPI000DC6D155',\n",
       " 'UniRef100_UPI000E1E1B23',\n",
       " 'UniRef100_A0A384CDP6',\n",
       " 'UniRef100_UPI0011C4296A',\n",
       " 'UniRef100_UPI0018F2C048',\n",
       " 'UniRef100_A0A7J8A2K2',\n",
       " 'UniRef100_UPI00167F6478',\n",
       " 'UniRef100_A0A7N5J9L3',\n",
       " 'UniRef100_UPI000E1BAC19',\n",
       " 'UniRef100_UPI000E1E560E',\n",
       " 'UniRef100_UPI0013F1A6BA',\n",
       " 'UniRef100_UPI000A3079D0',\n",
       " 'UniRef100_A0A340XPD4',\n",
       " 'UniRef100_UPI001403A7C1',\n",
       " 'UniRef100_A0A1S3GMC0',\n",
       " 'UniRef100_UPI0007780863',\n",
       " 'UniRef100_A0A2Y9E163',\n",
       " 'UniRef100_UPI00071E3ECD',\n",
       " 'UniRef100_UPI0003BBCA8B',\n",
       " 'UniRef100_A0A6J3E5X1',\n",
       " 'UniRef100_UPI00139663F8',\n",
       " 'UniRef100_A0A3Q7P709',\n",
       " 'UniRef100_UPI0005113A0C',\n",
       " 'UniRef100_UPI000454974E',\n",
       " 'UniRef100_O95155-2',\n",
       " 'UniRef100_UPI0003C46BAE',\n",
       " 'UniRef100_UPI00053CCB36',\n",
       " 'UniRef100_UPI000FFB95BB',\n",
       " 'UniRef100_F6S128',\n",
       " 'UniRef100_UPI00156C3854',\n",
       " 'UniRef100_UPI0003EBC280',\n",
       " 'UniRef100_A0A5F9CDE9',\n",
       " 'UniRef100_UPI00146C2CAC',\n",
       " 'UniRef100_UPI00051FF9FB',\n",
       " 'UniRef100_UPI000521278A',\n",
       " 'UniRef100_UPI00038C3AC7',\n",
       " 'UniRef100_A0A6J2EG51',\n",
       " 'UniRef100_UPI000FD66749',\n",
       " 'UniRef100_A0A341BTI9',\n",
       " 'UniRef100_K7AGT6',\n",
       " 'UniRef100_UPI000528EF61',\n",
       " 'UniRef100_A0A672UF64',\n",
       " 'UniRef100_UPI0013C534D4',\n",
       " 'UniRef100_A0A6P5JFJ5',\n",
       " 'UniRef100_A0A674HSJ7',\n",
       " 'UniRef100_UPI000FFDBD96',\n",
       " 'UniRef100_UPI0015A6CB8D',\n",
       " 'UniRef100_K9IPY1',\n",
       " 'UniRef100_A0A671F5P4',\n",
       " 'UniRef100_UPI00052334E7',\n",
       " 'UniRef100_A0A2Y9QGC8',\n",
       " 'UniRef100_UPI000FCD4B07',\n",
       " 'UniRef100_A0A663F5G8',\n",
       " 'UniRef100_A0A480TJQ1',\n",
       " 'UniRef100_A0A3Q1M2E8',\n",
       " 'UniRef100_UPI0018765FB1',\n",
       " 'UniRef100_UPI001237D523',\n",
       " 'UniRef100_A0A383Z4R7',\n",
       " 'UniRef100_UPI001ADE5E05',\n",
       " 'UniRef100_UPI001262A8DB',\n",
       " 'UniRef100_UPI0002BCE745',\n",
       " 'UniRef100_A0A6J2HGD5',\n",
       " 'UniRef100_F6RP60',\n",
       " 'UniRef100_UPI00033330D3',\n",
       " 'UniRef100_UPI0004F13B33',\n",
       " 'UniRef100_A0A4X2M156',\n",
       " 'UniRef100_UPI00045E081C',\n",
       " 'UniRef100_UPI00028BE9E8',\n",
       " 'UniRef100_UPI0003956FB7',\n",
       " 'UniRef100_UPI0003F117C4',\n",
       " 'UniRef100_UPI0018867763',\n",
       " 'UniRef100_UPI000739C883',\n",
       " 'UniRef100_UPI00186B199E',\n",
       " 'UniRef100_UPI000333AC6F',\n",
       " 'UniRef100_UPI0005225B5F',\n",
       " 'UniRef100_A0A7E6DPS4',\n",
       " 'UniRef100_UPI0004ED038B',\n",
       " 'UniRef100_UPI0002C64438',\n",
       " 'UniRef100_A0A218UHZ6',\n",
       " 'UniRef100_UPI00194EB33B',\n",
       " 'UniRef100_UPI00196A5219',\n",
       " 'UniRef100_A0A7J8KJA2',\n",
       " 'UniRef100_UPI0018D5556E',\n",
       " 'UniRef100_UPI0010866EDA',\n",
       " 'UniRef100_UPI001386DEB1',\n",
       " 'UniRef100_UPI00109FEE5B',\n",
       " 'UniRef100_UPI001A9429C7',\n",
       " 'UniRef100_UPI000529E67B',\n",
       " 'UniRef100_UPI0019236CC1',\n",
       " 'UniRef100_A0A2U4B070',\n",
       " 'UniRef100_UPI000B4ECCA2',\n",
       " 'UniRef100_UPI0007DA8621',\n",
       " 'UniRef100_A0A3Q0D6F1',\n",
       " 'UniRef100_UPI0013643426',\n",
       " 'UniRef100_UPI0013F30081',\n",
       " 'UniRef100_UPI0006B732CA',\n",
       " 'UniRef100_A0A7J7T164',\n",
       " 'UniRef100_A0A286XZP2',\n",
       " 'UniRef100_A0A4W2I1U4',\n",
       " 'UniRef100_A0A4W2EAN4',\n",
       " 'UniRef100_U3JXQ0',\n",
       " 'UniRef100_G3UAG9',\n",
       " 'UniRef100_UPI0005401A5C',\n",
       " 'UniRef100_A0A2Y9K8K7',\n",
       " 'UniRef100_UPI000F43F890',\n",
       " 'UniRef100_UPI00122DA12C',\n",
       " 'UniRef100_A0A2K5IWA4',\n",
       " 'UniRef100_A0A674K646',\n",
       " 'UniRef100_UPI000FFD3B55',\n",
       " 'UniRef100_A0A6P7QTG1',\n",
       " 'UniRef100_UPI000388AAE7',\n",
       " 'UniRef100_A0A6I9JXT6',\n",
       " 'UniRef100_UPI000FD68A21',\n",
       " 'UniRef100_UPI0013F18DA8',\n",
       " 'UniRef100_A0A6P4WYW7',\n",
       " 'UniRef100_A0A7J8FD93',\n",
       " 'UniRef100_UPI00195FE25A',\n",
       " 'UniRef100_UPI00187953B6',\n",
       " 'UniRef100_UPI0011C34A1D',\n",
       " 'UniRef100_UPI00032ADDD6',\n",
       " 'UniRef100_A0A6P3F660',\n",
       " 'UniRef100_UPI000E1D5AF6',\n",
       " 'UniRef100_UPI0018F44228',\n",
       " 'UniRef100_Q9ES00',\n",
       " 'UniRef100_A0A7E6DQH4',\n",
       " 'UniRef100_UPI000E1F67AA',\n",
       " 'UniRef100_UPI00188F7DB2',\n",
       " 'UniRef100_UPI00042CD2FD',\n",
       " 'UniRef100_UPI0003D083EB',\n",
       " 'UniRef100_A0A485NFY8',\n",
       " 'UniRef100_UPI000E1D6190',\n",
       " 'UniRef100_UPI001A9A8A6F',\n",
       " 'UniRef100_A0A6P3I8Y5',\n",
       " 'UniRef100_A6QNS2',\n",
       " 'UniRef100_A0A4W2GG10',\n",
       " 'UniRef100_UPI00140CFC62',\n",
       " 'UniRef100_A0A2K5W1A0',\n",
       " 'UniRef100_A0A6P5D0Z5',\n",
       " 'UniRef100_UPI000FFD90DE',\n",
       " 'UniRef100_UPI0013CEBC2B',\n",
       " 'UniRef100_A0A287CTQ1',\n",
       " 'UniRef100_UPI00051C34A5',\n",
       " 'UniRef100_UPI00122D6947',\n",
       " 'UniRef100_UPI0012AD53FC',\n",
       " 'UniRef100_UPI0013F2663B',\n",
       " 'UniRef100_A0A2K5W1E7',\n",
       " 'UniRef100_UPI0005404CBB',\n",
       " 'UniRef100_UPI000523B061',\n",
       " 'UniRef100_UPI000FCCFC41',\n",
       " 'UniRef100_A0A6P7EJG2',\n",
       " 'UniRef100_UPI00084666AC',\n",
       " 'UniRef100_A0A7J7X8U8',\n",
       " 'UniRef100_UPI0012370D0D',\n",
       " 'UniRef100_UPI000FFFC44B',\n",
       " 'UniRef100_UPI0004F1090D',\n",
       " 'UniRef100_UPI00141BDCA6',\n",
       " 'UniRef100_UPI00035031F0',\n",
       " 'UniRef100_G3T5B5',\n",
       " 'UniRef100_UPI00071D7B4E',\n",
       " 'UniRef100_UPI00122DC47A',\n",
       " 'UniRef100_UPI0013F27E34',\n",
       " 'UniRef100_A0A2J8USC6',\n",
       " 'UniRef100_UPI001AE02135',\n",
       " 'UniRef100_A0A2I2YLT5',\n",
       " 'UniRef100_UPI00123E6FEB',\n",
       " 'UniRef100_G3QLL2',\n",
       " 'UniRef100_UPI0018E2CB4E',\n",
       " 'UniRef100_A0A6J0X461',\n",
       " 'UniRef100_UPI00146D86C3',\n",
       " 'UniRef100_A0A6J1ZJ19',\n",
       " 'UniRef100_A0A1U8C7N0',\n",
       " 'UniRef100_UPI00038EAEFC',\n",
       " 'UniRef100_UPI0004D0AB7D',\n",
       " 'UniRef100_UPI000DC19D99',\n",
       " 'UniRef100_A0A2K5IVL5',\n",
       " 'UniRef100_A0A663LNG6',\n",
       " 'UniRef100_F7HC69',\n",
       " 'UniRef100_UPI000C29C494',\n",
       " 'UniRef100_A0A2K5YNA7',\n",
       " 'UniRef100_Q80TU3',\n",
       " 'UniRef100_A0A3Q0EHJ1',\n",
       " 'UniRef100_A0A1V4KNW0',\n",
       " 'UniRef100_F6UV30',\n",
       " 'UniRef100_UPI00186AD832',\n",
       " 'UniRef100_UPI000776D2F5',\n",
       " 'UniRef100_UPI0005213CCD',\n",
       " 'UniRef100_UPI00193F660B',\n",
       " 'UniRef100_UPI001404064B',\n",
       " 'UniRef100_UPI0018D5A259',\n",
       " 'UniRef100_UPI000510EC1A',\n",
       " 'UniRef100_A0A6P5J6L9',\n",
       " 'UniRef100_O95155',\n",
       " 'UniRef100_UPI0003F0BAAE',\n",
       " 'UniRef100_UPI0013F1DFC1',\n",
       " 'UniRef100_UPI0012AE4817',\n",
       " 'UniRef100_A0A2K5W1H3',\n",
       " 'UniRef100_UPI00077100FC',\n",
       " 'UniRef100_UPI0005234784',\n",
       " 'UniRef100_UPI000762A504',\n",
       " 'UniRef100_UPI00053CB62F',\n",
       " 'UniRef100_UPI000E1DF41C',\n",
       " 'UniRef100_A0A5E4D3F4',\n",
       " 'UniRef100_UPI0012373303',\n",
       " 'UniRef100_A0A3Q7SV89',\n",
       " 'UniRef100_UPI0018F7DB6D',\n",
       " 'UniRef100_UPI00005A0D44',\n",
       " 'UniRef100_UPI00141BD7BD',\n",
       " 'UniRef100_UPI00093C8531',\n",
       " 'UniRef100_UPI0005288726',\n",
       " 'UniRef100_UPI0012630467',\n",
       " 'UniRef100_UPI001879EE3F',\n",
       " 'UniRef100_UPI0003C80A5A',\n",
       " 'UniRef100_I3MBL4',\n",
       " 'UniRef100_UPI0013A6201C',\n",
       " 'UniRef100_UPI000FD64B67',\n",
       " 'UniRef100_UPI0013F1E5B3',\n",
       " 'UniRef100_UPI00146AD6A3',\n",
       " 'UniRef100_A0A7N4NYR2',\n",
       " 'UniRef100_UPI000DC6A5CA',\n",
       " 'UniRef100_A0A3Q7WS19',\n",
       " 'UniRef100_UPI00193E111C',\n",
       " 'UniRef100_UPI00051E6268',\n",
       " 'UniRef100_UPI00123ED81C',\n",
       " 'UniRef100_UPI000CF00877',\n",
       " 'UniRef100_UPI0011CEE5D7',\n",
       " 'UniRef100_UPI00189D552B',\n",
       " 'UniRef100_UPI0006707DC4',\n",
       " 'UniRef100_UPI000C8338C1',\n",
       " 'UniRef100_A0A3Q0EF62',\n",
       " 'UniRef100_UPI00052028D0',\n",
       " 'UniRef100_UPI001875B1B7',\n",
       " 'UniRef100_UPI0011CEF5E2',\n",
       " 'UniRef100_G1LC99',\n",
       " 'UniRef100_UPI0018B01969',\n",
       " 'UniRef100_H0YZF0',\n",
       " 'UniRef100_UPI0013A67768',\n",
       " 'UniRef100_A0A2I3MWI1',\n",
       " 'UniRef100_A0A663F7D1',\n",
       " 'UniRef100_UPI000DC18F03',\n",
       " 'UniRef100_UPI0013CF0AEA',\n",
       " 'UniRef100_UPI00159D9C84',\n",
       " 'UniRef100_UPI0018A23BB0',\n",
       " 'UniRef100_A0A2R9BS62',\n",
       " 'UniRef100_A0A2J8KXN1',\n",
       " 'UniRef100_UPI0005F56EF5',\n",
       " 'UniRef100_UPI001AE400BC',\n",
       " 'UniRef100_UPI001A94D091',\n",
       " 'UniRef100_UPI000739D5AD',\n",
       " 'UniRef100_UPI001ADE40E6',\n",
       " 'UniRef100_A0A2Y9RND8',\n",
       " 'UniRef100_UPI000E558A43',\n",
       " 'UniRef100_UPI00109FD50B',\n",
       " 'UniRef100_UPI000FCCEB62',\n",
       " 'UniRef100_A0A6J2HHV9',\n",
       " 'UniRef100_A0A6J3JMT5',\n",
       " 'UniRef100_UPI00167FDC4D',\n",
       " 'UniRef100_UPI00071A7916',\n",
       " 'UniRef100_O95155-4',\n",
       " 'UniRef100_A0A669R226',\n",
       " 'UniRef100_UPI00111C66F9',\n",
       " 'UniRef100_UPI0018869173',\n",
       " 'UniRef100_UPI0005229853',\n",
       " 'UniRef100_UPI001395E9D9',\n",
       " 'UniRef100_UPI0008F50451',\n",
       " 'UniRef100_UPI0006B6EA1C',\n",
       " 'UniRef100_UPI00174A5D43',\n",
       " 'UniRef100_UPI00033348C4',\n",
       " 'UniRef100_UPI0007AD8336',\n",
       " 'UniRef100_UPI0018F7E344',\n",
       " 'UniRef100_J9P9M3',\n",
       " 'UniRef100_UPI000939065E',\n",
       " 'UniRef100_UPI00129EADF9',\n",
       " 'UniRef100_UPI001AE57B37',\n",
       " 'UniRef100_UPI0012439148',\n",
       " 'UniRef100_UPI000DC681C8',\n",
       " 'UniRef100_F1NGY1',\n",
       " 'UniRef100_UPI0013870283',\n",
       " 'UniRef100_UPI000703F857',\n",
       " 'UniRef100_A0A673USI2',\n",
       " 'UniRef100_UPI00033467F6',\n",
       " 'UniRef100_A0A7J7X8F5',\n",
       " 'UniRef100_UPI0013F362A0',\n",
       " 'UniRef100_A0A571BD95',\n",
       " 'UniRef100_F1RIG2',\n",
       " 'UniRef100_A0A671F5L9',\n",
       " 'UniRef100_UPI00101A06A2',\n",
       " 'UniRef100_UPI000B4DA82B',\n",
       " 'UniRef100_UPI0004F0AF7C',\n",
       " 'UniRef100_UPI001B350FB9',\n",
       " 'UniRef100_UPI0005123237',\n",
       " 'UniRef100_UPI000777E544',\n",
       " 'UniRef100_UPI00092E8868',\n",
       " 'UniRef100_UPI001AE33809',\n",
       " 'UniRef100_UPI0007A6CB1F',\n",
       " 'UniRef100_UPI001962130C',\n",
       " 'UniRef100_UPI00156BF29F',\n",
       " 'UniRef100_UPI000D63F4AA',\n",
       " 'UniRef100_UPI000F73640C',\n",
       " 'UniRef100_UPI001419EBA0',\n",
       " 'UniRef100_UPI0004BDC359',\n",
       " 'UniRef100_UPI000EAAF929',\n",
       " 'UniRef100_A0A5F5PGT4',\n",
       " 'UniRef100_UPI0018751495',\n",
       " 'UniRef100_G1TCT4',\n",
       " 'UniRef100_A0A6J2EAF9',\n",
       " 'UniRef100_UPI0009AF1C97',\n",
       " 'UniRef100_A0A2Y9GKL8',\n",
       " 'UniRef100_UPI0002C69148',\n",
       " 'UniRef100_UPI0003C49BA9',\n",
       " 'UniRef100_UPI001237FABD',\n",
       " 'UniRef100_UPI000B3E0BBA',\n",
       " 'UniRef100_UPI0006B8299F',\n",
       " 'UniRef100_UPI000388B480',\n",
       " 'UniRef100_F6RQ49',\n",
       " 'UniRef100_UPI000FFB8653',\n",
       " 'UniRef100_UPI00071A288F',\n",
       " 'UniRef100_A0A674K4N9',\n",
       " 'UniRef100_UPI0007EE717B',\n",
       " 'UniRef100_A0A7J8A385',\n",
       " 'UniRef100_UPI000FFD483B',\n",
       " 'UniRef100_UPI0015A63007',\n",
       " 'UniRef100_UPI000E1BDF59',\n",
       " 'UniRef100_UPI00194FF874',\n",
       " 'UniRef100_UPI00045E14AD',\n",
       " 'UniRef100_A0A5F8MP95',\n",
       " 'UniRef100_UPI00140ABD67',\n",
       " 'UniRef100_UPI00140F73A0',\n",
       " 'UniRef100_UPI000CF00B7C',\n",
       " 'UniRef100_UPI000388DBAF',\n",
       " 'UniRef100_UPI00163C9570',\n",
       " 'UniRef100_UPI00093A4DA0',\n",
       " 'UniRef100_A0A341BS11',\n",
       " 'UniRef100_UPI00174E4EC8',\n",
       " 'UniRef100_UPI0003891030',\n",
       " 'UniRef100_UPI0003504D6D',\n",
       " 'UniRef100_A0A250Y725',\n",
       " 'UniRef100_K7G052',\n",
       " 'UniRef100_A0A1U7RKX4',\n",
       " 'UniRef100_UPI0013C5002D',\n",
       " 'UniRef100_UPI000E1DFEC4',\n",
       " 'UniRef100_UPI0018D58E3D',\n",
       " 'UniRef100_A0A6J0D4I8',\n",
       " 'UniRef100_A0A4X1W2L4',\n",
       " 'UniRef100_UPI000A2B80DC',\n",
       " 'UniRef100_A0A151N3U0',\n",
       " 'UniRef100_UPI000529A8A9',\n",
       " 'UniRef100_Q6NWW1',\n",
       " 'UniRef100_UPI001363140C',\n",
       " 'UniRef100_A0A2Y9QA71',\n",
       " 'UniRef100_UPI001590614B',\n",
       " 'UniRef100_A0A7J7T1R2',\n",
       " 'UniRef100_A0A2Y9SY25',\n",
       " 'UniRef100_UPI0013F357F9',\n",
       " 'UniRef100_A0A834ECM3',\n",
       " 'UniRef100_UPI000CEFBB61',\n",
       " 'UniRef100_A0A7E6DPT0',\n",
       " 'UniRef100_UPI00048E52EE',\n",
       " 'UniRef100_UPI0002BCFEDD',\n",
       " 'UniRef100_UPI000523AD72',\n",
       " 'UniRef100_UPI001555A1D3',\n",
       " 'UniRef100_UPI000388A73E',\n",
       " 'UniRef100_A0A7J8KJC6',\n",
       " 'UniRef100_UPI00042C0461',\n",
       " 'UniRef100_A0A4D9ER66',\n",
       " 'UniRef100_A0A6P3FKM0',\n",
       " 'UniRef100_A0A383Z4H6',\n",
       " 'UniRef100_UPI0019608D83',\n",
       " 'UniRef100_A0A2Y9K9C5',\n",
       " 'UniRef100_A0A455B506',\n",
       " 'UniRef100_UPI00187540DB',\n",
       " 'UniRef100_UPI0011CEF66E',\n",
       " 'UniRef100_UPI00193F9ACA',\n",
       " 'UniRef100_UPI00071A42FC',\n",
       " 'UniRef100_A0A6J3E706',\n",
       " 'UniRef100_UPI00174F2A3C',\n",
       " 'UniRef100_UPI001485D1D0',\n",
       " 'UniRef100_UPI0013F35E36',\n",
       " 'UniRef100_UPI000F7C6A49',\n",
       " 'UniRef100_UPI0011CFB153',\n",
       " 'UniRef100_UPI0006B0E906',\n",
       " 'UniRef100_A0A286XCB5',\n",
       " 'UniRef100_A0A1U8C7L8',\n",
       " 'UniRef100_UPI00122EC433',\n",
       " 'UniRef100_UPI0013F1B8D8',\n",
       " 'UniRef100_UPI001ADE8392',\n",
       " 'UniRef100_A0A663F5A0',\n",
       " 'UniRef100_UPI000697DD00',\n",
       " 'UniRef100_A0A2U4AZV5',\n",
       " 'UniRef100_A0A1S3AIU6',\n",
       " 'UniRef100_UPI00051E1EFA',\n",
       " 'UniRef100_UPI00187CA430',\n",
       " 'UniRef100_G3W391',\n",
       " 'UniRef100_A0A6P4WNC8',\n",
       " 'UniRef100_UPI000F43EDA1',\n",
       " 'UniRef100_UPI0015A574A8',\n",
       " 'UniRef100_UPI00187A06CC',\n",
       " 'UniRef100_UPI0013F27866',\n",
       " 'UniRef100_UPI00140356C3',\n",
       " 'UniRef100_UPI0018A2094B',\n",
       " 'UniRef100_A0A7E6DQW1',\n",
       " 'UniRef100_UPI0018A2026D',\n",
       " 'UniRef100_UPI0018766879',\n",
       " 'UniRef100_UPI001AD637FE',\n",
       " 'UniRef100_UPI0002AD1C8A',\n",
       " 'UniRef100_A0A6P6GYU6',\n",
       " 'UniRef100_UPI0012625730',\n",
       " 'UniRef100_UPI00193F1CC1',\n",
       " 'UniRef100_UPI0013F21482',\n",
       " 'UniRef100_UPI0018798833',\n",
       " 'UniRef100_UPI0018A1E652',\n",
       " 'UniRef100_UPI001114EB17',\n",
       " 'UniRef100_A0A096N3J1',\n",
       " 'UniRef100_UPI00034FD5E5',\n",
       " 'UniRef100_UPI0003D07233',\n",
       " 'UniRef100_UPI0010A80BFA',\n",
       " 'UniRef100_A0A6P4WXX6',\n",
       " 'UniRef100_L8ITR9',\n",
       " 'UniRef100_UPI00084751FC',\n",
       " 'UniRef100_UPI0011CEDD62',\n",
       " 'UniRef100_UPI0013F20EFC',\n",
       " 'UniRef100_A0A7K9ZRD6',\n",
       " 'UniRef100_A0A3Q0D5G5',\n",
       " 'UniRef100_A0A6J1ZFM9',\n",
       " 'UniRef100_A0A7K9QM01',\n",
       " 'UniRef100_A0A1U8CAL1',\n",
       " 'UniRef100_L5LPU0',\n",
       " 'UniRef100_M3WKZ0',\n",
       " 'UniRef100_UPI001AD63775',\n",
       " 'UniRef100_UPI00188EE781',\n",
       " 'UniRef100_UPI000CDB1D15',\n",
       " 'UniRef100_UPI0015D63863',\n",
       " 'UniRef100_UPI001879F8C0',\n",
       " 'UniRef100_A0A811ZKX2',\n",
       " 'UniRef100_UPI000FFB2931',\n",
       " 'UniRef100_UPI000E560D8A',\n",
       " 'UniRef100_UPI0003D74EAC',\n",
       " 'UniRef100_A0A7L2LPX8',\n",
       " 'UniRef100_A0A3Q0H4N2',\n",
       " 'UniRef100_UPI0010A98E50',\n",
       " 'UniRef100_UPI001874A15C',\n",
       " 'UniRef100_UPI00109FF06D',\n",
       " 'UniRef100_UPI00163C4244',\n",
       " 'UniRef100_UPI0018A1EE81',\n",
       " 'UniRef100_UPI00038EB9A0',\n",
       " 'UniRef100_A0A803TSC8',\n",
       " 'UniRef100_UPI001B34B75D',\n",
       " 'UniRef100_A0A6J1ZFZ0',\n",
       " 'UniRef100_A0A1U7R9Z2',\n",
       " 'UniRef100_UPI0014195787',\n",
       " 'UniRef100_UPI00163BD91E',\n",
       " 'UniRef100_A0A673US98',\n",
       " 'UniRef100_A0A3B5A698',\n",
       " 'UniRef100_UPI00174E4823',\n",
       " 'UniRef100_A0A2R9BS61',\n",
       " 'UniRef100_UPI0006431B53',\n",
       " 'UniRef100_A0A7K5MB83',\n",
       " 'UniRef100_UPI001590C46F',\n",
       " 'UniRef100_A0A3Q0H4M7',\n",
       " 'UniRef100_A0A6J0AGX1',\n",
       " 'UniRef100_A0A672ZM48',\n",
       " 'UniRef100_UPI00051E5CE9',\n",
       " 'UniRef100_A0A7K6HZ20',\n",
       " 'UniRef100_A0A667WXY4',\n",
       " 'UniRef100_UPI000EF6D5B1',\n",
       " 'UniRef100_A0A669QX45',\n",
       " 'UniRef100_A0A6P9DUD6',\n",
       " 'UniRef100_A0A6J0SND4',\n",
       " 'UniRef100_UPI0011553FC0',\n",
       " 'UniRef100_A0A3B3VHU1',\n",
       " 'UniRef100_UPI00174B849A',\n",
       " 'UniRef100_A0A0B8RVI1',\n",
       " 'UniRef100_UPI00044198A9',\n",
       " 'UniRef100_UPI000670EF8A',\n",
       " 'UniRef100_UPI0007DA552E',\n",
       " 'UniRef100_A0A7K4UDE8',\n",
       " 'UniRef100_UPI000775B05D',\n",
       " 'UniRef100_A0A7L0AIH8',\n",
       " 'UniRef100_A0A3Q1BM56',\n",
       " 'UniRef100_UPI000443A8B8',\n",
       " 'UniRef100_A0A6J1VNR1',\n",
       " 'UniRef100_UPI0011E9ECFE',\n",
       " 'UniRef100_UPI00187C6935',\n",
       " 'UniRef100_A0A7L2YUY8',\n",
       " 'UniRef100_A0A3B3XHY1',\n",
       " 'UniRef100_UPI0003C4ABD4',\n",
       " 'UniRef100_A0A7L0UV09',\n",
       " 'UniRef100_UPI0013779C64',\n",
       " 'UniRef100_UPI0004F4DEDB',\n",
       " 'UniRef100_A0A3P9PN37',\n",
       " 'UniRef100_A0A455B6M4',\n",
       " 'UniRef100_A0A7K9WM31',\n",
       " 'UniRef100_A0A7K9HRI6',\n",
       " 'UniRef100_A0A1W7RBX8',\n",
       " 'UniRef100_A0A671UXW8',\n",
       " 'UniRef100_A0A7L0BMF5',\n",
       " 'UniRef100_UPI00092E70EA',\n",
       " 'UniRef100_A0A0S7ESZ7',\n",
       " 'UniRef100_A0A3Q1LPU1',\n",
       " 'UniRef100_A0A3Q2W0J2',\n",
       " 'UniRef100_UPI00093B4445',\n",
       " 'UniRef100_W5MIE3',\n",
       " 'UniRef100_A0A7K5ZP96',\n",
       " 'UniRef100_UPI00192FADDD',\n",
       " 'UniRef100_UPI000E3F8E92',\n",
       " 'UniRef100_A0A7K9MWF0',\n",
       " 'UniRef100_A0A3Q1GEK8',\n",
       " 'UniRef100_A0A3Q3KAV2',\n",
       " 'UniRef100_UPI00163C5CA8',\n",
       " 'UniRef100_A0A672IAM5',\n",
       " 'UniRef100_UPI0018E259FD',\n",
       " 'UniRef100_UPI001446E872',\n",
       " 'UniRef100_UPI001B3AD696',\n",
       " 'UniRef100_A0A7K9IQU9',\n",
       " 'UniRef100_UPI00165BB81D',\n",
       " 'UniRef100_A0A7K5JUI0',\n",
       " 'UniRef100_A0A1A7YJG2',\n",
       " 'UniRef100_A0A7L3QF14',\n",
       " 'UniRef100_A0A7K8MB60',\n",
       " 'UniRef100_UPI0009070E00',\n",
       " 'UniRef100_A0A3Q2GM69',\n",
       " 'UniRef100_A0A7L0WFC4',\n",
       " 'UniRef100_A0A7K6LCE2',\n",
       " 'UniRef100_A0A7L3M2F0',\n",
       " 'UniRef100_A0A3Q0H9B2',\n",
       " 'UniRef100_UPI000901EB12',\n",
       " 'UniRef100_UPI0004F0763A',\n",
       " 'UniRef100_A0A3B5R0B0',\n",
       " 'UniRef100_A0A7K6IUU0',\n",
       " 'UniRef100_A0A7L2XFC8',\n",
       " 'UniRef100_A0A7K7XMV2',\n",
       " 'UniRef100_A0A851FPL3',\n",
       " 'UniRef100_UPI0006986D7D',\n",
       " 'UniRef100_A0A7K8BQB2',\n",
       " 'UniRef100_A0A7L1AGP7',\n",
       " 'UniRef100_A0A7L1TPX0',\n",
       " 'UniRef100_UPI00025F8A09',\n",
       " 'UniRef100_R0KT93',\n",
       " 'UniRef100_A0A7K8GHA1',\n",
       " 'UniRef100_A0A7K4KJH4',\n",
       " 'UniRef100_A0A3Q3LJ95',\n",
       " 'UniRef100_A0A7K4W5G7',\n",
       " 'UniRef100_A0A7K6PJH8',\n",
       " 'UniRef100_A0A1A7WSW0',\n",
       " 'UniRef100_UPI00148FCD2C',\n",
       " 'UniRef100_A0A146P4M1',\n",
       " 'UniRef100_A0A7K7CH57',\n",
       " 'UniRef100_A0A851QZS9',\n",
       " 'UniRef100_A0A7K8HDY0',\n",
       " 'UniRef100_A0A3Q1IZ67',\n",
       " 'UniRef100_A0A7K6F867',\n",
       " 'UniRef100_A0A6P7IJA6',\n",
       " 'UniRef100_UPI000BBE71AA',\n",
       " 'UniRef100_UPI001A985F18',\n",
       " 'UniRef100_A0A7K5KZN1',\n",
       " 'UniRef100_UPI0015E0E1D8',\n",
       " 'UniRef100_UPI00097DC907',\n",
       " 'UniRef100_J9P2H4',\n",
       " 'UniRef100_A0A852JW54',\n",
       " 'UniRef100_A0A7K7R275',\n",
       " 'UniRef100_A0A7K6KNQ6',\n",
       " 'UniRef100_A0A7L0TTB5',\n",
       " 'UniRef100_A0A7K4QDR8',\n",
       " 'UniRef100_A0A7L0LCK0',\n",
       " 'UniRef100_W5L1A7',\n",
       " 'UniRef100_A0A851TIV8',\n",
       " 'UniRef100_A0A852AJV1',\n",
       " 'UniRef100_A0A6P7ZWQ0',\n",
       " 'UniRef100_A0A665TF48',\n",
       " 'UniRef100_A0A7L2VCW5',\n",
       " 'UniRef100_A0A3B4WH21',\n",
       " 'UniRef100_A0A7K5F1D9',\n",
       " 'UniRef100_UPI0018EBFEAA',\n",
       " 'UniRef100_UPI001863D73A',\n",
       " 'UniRef100_UPI0013B418AD',\n",
       " 'UniRef100_A0A7K8S5P0',\n",
       " 'UniRef100_A0A7L0Z326',\n",
       " 'UniRef100_A0A7K4XWL6',\n",
       " 'UniRef100_A0A7L2ZWB7',\n",
       " 'UniRef100_A0A091QK42',\n",
       " 'UniRef100_A0A851KHS6',\n",
       " 'UniRef100_A0A7L0IZR8',\n",
       " 'UniRef100_A0A7K5VNB6',\n",
       " 'UniRef100_A0A7K7KD65',\n",
       " 'UniRef100_A0A7L2MJI1',\n",
       " 'UniRef100_A0A7K7BB35',\n",
       " 'UniRef100_A0A7L3VCY5',\n",
       " 'UniRef100_A0A7K5Q303',\n",
       " 'UniRef100_A0A7K7VIU6',\n",
       " 'UniRef100_A0A852DX76',\n",
       " 'UniRef100_A0A7K6CI21',\n",
       " 'UniRef100_A0A7L1P8V2',\n",
       " 'UniRef100_A0A7L2T893',\n",
       " 'UniRef100_A0A7K6ZTK5',\n",
       " 'UniRef100_UPI0015AD1424',\n",
       " 'UniRef100_A0A0F7Z464',\n",
       " 'UniRef100_A0A7K4LD89',\n",
       " 'UniRef100_S7N538',\n",
       " 'UniRef100_A0A7K7IZW4',\n",
       " 'UniRef100_A0A7K4Q403',\n",
       " 'UniRef100_A0A6P8P1J8',\n",
       " 'UniRef100_A0A7L2EGJ0',\n",
       " 'UniRef100_UPI000EFDCCCB',\n",
       " 'UniRef100_A0A851P2C9',\n",
       " 'UniRef100_G1NSN4',\n",
       " 'UniRef100_A0A7L4NB34',\n",
       " 'UniRef100_A0A7L3EH06',\n",
       " 'UniRef100_A0A7K8EYW3',\n",
       " 'UniRef100_A0A7L3KCA3',\n",
       " 'UniRef100_A0A7L4DS20',\n",
       " 'UniRef100_A0A672M3W6',\n",
       " 'UniRef100_A0A7L0ZGQ9',\n",
       " 'UniRef100_A0A7K8NIF0',\n",
       " 'UniRef100_A0A7L1GGC7',\n",
       " 'UniRef100_A0A7K7WL60',\n",
       " 'UniRef100_A0A6P9DGR8',\n",
       " 'UniRef100_A0A7K8D2H9',\n",
       " 'UniRef100_UPI000497C6A5',\n",
       " 'UniRef100_A0A7K5SP03',\n",
       " 'UniRef100_A0A7K7YMQ7',\n",
       " 'UniRef100_A0A851RU15',\n",
       " 'UniRef100_A0A7L1KDL2',\n",
       " 'UniRef100_A0A7L1J7K2',\n",
       " 'UniRef100_A0A852NI70',\n",
       " 'UniRef100_A0A094KWL7',\n",
       " 'UniRef100_A0A851WRE4',\n",
       " 'UniRef100_A0A852N3H4',\n",
       " 'UniRef100_A0A7K9YV20',\n",
       " 'UniRef100_A0A671LEK3',\n",
       " 'UniRef100_A0A6P3QCY8',\n",
       " 'UniRef100_A0A7L1YZX2',\n",
       " 'UniRef100_UPI001B3AF43B',\n",
       " 'UniRef100_A0A6J1VG11',\n",
       " 'UniRef100_A0A7K5UH70',\n",
       " 'UniRef100_A0A852HD88',\n",
       " 'UniRef100_A0A851MSB8',\n",
       " 'UniRef100_A0A851BGG3',\n",
       " 'UniRef100_A0A672ZJZ0',\n",
       " 'UniRef100_A0A850USH3',\n",
       " 'UniRef100_A0A851C1Z0',\n",
       " 'UniRef100_A0A667XC14',\n",
       " 'UniRef100_A0A091GNC1',\n",
       " 'UniRef100_A0A093GZP8',\n",
       " 'UniRef100_A0A7K9AYL3',\n",
       " 'UniRef100_A0A7K7PBP6',\n",
       " 'UniRef100_H9GJI6',\n",
       " 'UniRef100_A0A7K7ZIY6',\n",
       " 'UniRef100_A0A7K5WZC9',\n",
       " 'UniRef100_A0A087QL55',\n",
       " 'UniRef100_A0A852BLB5',\n",
       " 'UniRef100_D2HA37',\n",
       " 'UniRef100_A0A7K8QKJ4',\n",
       " 'UniRef100_UPI0008754A1F',\n",
       " 'UniRef100_A0A091G7W9',\n",
       " 'UniRef100_A0A6P7N060',\n",
       " 'UniRef100_A0A7L0HW23',\n",
       " 'UniRef100_A0A673MP07',\n",
       " 'UniRef100_UPI0018652E42',\n",
       " 'UniRef100_A0A7K8B2I9',\n",
       " 'UniRef100_A0A7K5E1Z1',\n",
       " 'UniRef100_A0A7L1RLA0',\n",
       " 'UniRef100_A0A7L2D7S6',\n",
       " 'UniRef100_A0A7K9BY61',\n",
       " 'UniRef100_A0A6J2UYR7',\n",
       " 'UniRef100_UPI0010FB1DA2',\n",
       " 'UniRef100_A0A7K5G9P4',\n",
       " 'UniRef100_A0A851VI52',\n",
       " 'UniRef100_A0A3Q3N3V7',\n",
       " 'UniRef100_A0A851DQL1',\n",
       " 'UniRef100_A0A851YK30',\n",
       " 'UniRef100_A0A7L4EFM5',\n",
       " 'UniRef100_UPI0013764F17',\n",
       " 'UniRef100_UPI00106EB664',\n",
       " 'UniRef100_A0A852CPF6',\n",
       " 'UniRef100_UPI0010FB11C8',\n",
       " 'UniRef100_A0A6J0SSL2',\n",
       " 'UniRef100_A0A7L0QVM2',\n",
       " 'UniRef100_A0A3P8TM89',\n",
       " 'UniRef100_A0A7L1N9E0',\n",
       " 'UniRef100_A0A7K9V043',\n",
       " 'UniRef100_A0A7K6TPB2',\n",
       " 'UniRef100_A0A7L0F4T8',\n",
       " 'UniRef100_A0A7L0DVL9',\n",
       " 'UniRef100_A0A7L3TQC7',\n",
       " 'UniRef100_F1Q5A9',\n",
       " 'UniRef100_A0A7K7EDV2',\n",
       " 'UniRef100_A0A093NUP8',\n",
       " 'UniRef100_A0A093HCR4',\n",
       " 'UniRef100_A0A7K8UQI2',\n",
       " 'UniRef100_A0A7K5ANK1',\n",
       " 'UniRef100_UPI0013AEC098',\n",
       " 'UniRef100_A0A7L3PGP4',\n",
       " 'UniRef100_A0A7K8E5I4',\n",
       " 'UniRef100_UPI00189FB7D3',\n",
       " 'UniRef100_A0A7L1ZBX4',\n",
       " 'UniRef100_A0A7L2QE56',\n",
       " 'UniRef100_A0A7K5INF1',\n",
       " 'UniRef100_A0A7K6T0X1',\n",
       " 'UniRef100_A0A7K9TAX7',\n",
       " 'UniRef100_A0A091ULX6',\n",
       " 'UniRef100_UPI00155E4102',\n",
       " 'UniRef100_UPI0015E14388',\n",
       " 'UniRef100_A0A091QEK5',\n",
       " 'UniRef100_A0A7K8VXN5',\n",
       " 'UniRef100_A0A3Q0R442',\n",
       " 'UniRef100_A0A3Q3AWV1',\n",
       " 'UniRef100_UPI000D690CD6',\n",
       " 'UniRef100_A0A7K6Z041',\n",
       " 'UniRef100_A0A0A0AV32',\n",
       " 'UniRef100_A0A7K7KWT1',\n",
       " 'UniRef100_UPI0018E28778',\n",
       " 'UniRef100_UPI0013781DC4',\n",
       " 'UniRef100_A0A093BTH4',\n",
       " 'UniRef100_A0A7K6BCW0',\n",
       " 'UniRef100_A0A7K8IQT0',\n",
       " 'UniRef100_UPI00125E5A64',\n",
       " 'UniRef100_A0A091UGZ2',\n",
       " 'UniRef100_A0A093ILP0',\n",
       " 'UniRef100_A0A7L4IZY2',\n",
       " 'UniRef100_A0A852IJL1',\n",
       " 'UniRef100_A0A3Q2W1Z1',\n",
       " 'UniRef100_A0A7K5C184',\n",
       " 'UniRef100_A0A7L1C458',\n",
       " 'UniRef100_A0A7K9LFD5',\n",
       " 'UniRef100_A0A7L1SX59',\n",
       " 'UniRef100_A0A851UD40',\n",
       " 'UniRef100_A0A3S2UGJ7',\n",
       " 'UniRef100_A0A091MXC4',\n",
       " 'UniRef100_A0A091RYN1',\n",
       " 'UniRef100_H3DCI3',\n",
       " 'UniRef100_UPI0015E253CE',\n",
       " 'UniRef100_A0A7L1MNM1',\n",
       " 'UniRef100_A0A7K7MKM3',\n",
       " 'UniRef100_UPI000E41E4A3',\n",
       " 'UniRef100_A0A7K7SEK1',\n",
       " 'UniRef100_UPI00167B36AB',\n",
       " 'UniRef100_A0A7L2NZ21',\n",
       " 'UniRef100_A0A7L2J6K2',\n",
       " 'UniRef100_A0A093R822',\n",
       " 'UniRef100_A0A091JNR3',\n",
       " 'UniRef100_A0A3P8R8D8',\n",
       " 'UniRef100_UPI000742B926',\n",
       " 'UniRef100_A0A6J2Q2W4',\n",
       " 'UniRef100_UPI00192F914F',\n",
       " 'UniRef100_A0A6P6JDL6',\n",
       " 'UniRef100_A0A7K8ZY22',\n",
       " 'UniRef100_A0A7L2C6G0',\n",
       " 'UniRef100_UPI001863A907',\n",
       " 'UniRef100_A0A3B3HLZ0',\n",
       " 'UniRef100_A0A7L2RLD9',\n",
       " 'UniRef100_A0A7K6XUA9',\n",
       " 'UniRef100_A0A093HJC9',\n",
       " 'UniRef100_A0A7L1FUK5',\n",
       " 'UniRef100_A0A091VW14',\n",
       " 'UniRef100_A0A7K5N0L9',\n",
       " 'UniRef100_A0A3B5R4N5',\n",
       " 'UniRef100_A0A091SN15',\n",
       " 'UniRef100_A0A7L2I898',\n",
       " 'UniRef100_A0A7L4LR38',\n",
       " 'UniRef100_A0A7K6UU36',\n",
       " 'UniRef100_A0A7L2AIQ2',\n",
       " 'UniRef100_A0A2I2UY59',\n",
       " 'UniRef100_A0A091PNC3',\n",
       " 'UniRef100_A0A1A8D464',\n",
       " 'UniRef100_A0A7K5HPW1',\n",
       " 'UniRef100_UPI001176B423',\n",
       " 'UniRef100_A0A852FC22',\n",
       " 'UniRef100_UPI00053CB13C',\n",
       " 'UniRef100_A0A3P9IWJ9',\n",
       " 'UniRef100_G3NW73',\n",
       " 'UniRef100_A0A7K7G8F8',\n",
       " 'UniRef100_A0A7L2GSW1',\n",
       " 'UniRef100_A0A851L9P1',\n",
       " 'UniRef100_UPI00148C3896',\n",
       " 'UniRef100_A0A3B3CYX4',\n",
       " 'UniRef100_UPI0012EED2B5',\n",
       " 'UniRef100_A0A7K4JLF6',\n",
       " 'UniRef100_K7G045',\n",
       " 'UniRef100_A0A7K8Y2N5',\n",
       " 'UniRef100_A0A7K8SLJ8',\n",
       " 'UniRef100_UPI00165A7F06',\n",
       " 'UniRef100_A0A091K012',\n",
       " 'UniRef100_A0A834FJT9',\n",
       " 'UniRef100_A0A6P7ZMY5',\n",
       " 'UniRef100_UPI000904EA38',\n",
       " 'UniRef100_A0A1A8AZ35',\n",
       " 'UniRef100_A0A7L3LBP4',\n",
       " 'UniRef100_A0A091P587',\n",
       " 'UniRef100_A0A7L3I6U8',\n",
       " 'UniRef100_UPI00159C2F33',\n",
       " 'UniRef100_A0A7L3XLF2',\n",
       " 'UniRef100_A0A7K4ZNQ8',\n",
       " 'UniRef100_A0A668VE18',\n",
       " 'UniRef100_A0A7K6EVA8',\n",
       " 'UniRef100_A0A852LJ95',\n",
       " 'UniRef100_A0A2I3HNH0',\n",
       " 'UniRef100_UPI001471DBD8',\n",
       " 'UniRef100_A0A6P8NMP8',\n",
       " 'UniRef100_UPI0011137F23',\n",
       " 'UniRef100_A0A672M240',\n",
       " 'UniRef100_A0A7L1L6E7',\n",
       " 'UniRef100_A0A7L0NB50',\n",
       " 'UniRef100_A0A1A8I705',\n",
       " 'UniRef100_UPI001A99E420',\n",
       " 'UniRef100_A0A7K8YKB7',\n",
       " 'UniRef100_UPI0007B80D7F',\n",
       " 'UniRef100_UPI0007404691',\n",
       " 'UniRef100_UPI000A1C1FA5',\n",
       " 'UniRef100_A0A850XFT9',\n",
       " 'UniRef100_UPI0009B490C3',\n",
       " 'UniRef100_UPI000E464D56',\n",
       " 'UniRef100_A0A7K4RSG7',\n",
       " 'UniRef100_F1P7I0',\n",
       " 'UniRef100_H2TTD7',\n",
       " 'UniRef100_A0A1A8QGF4',\n",
       " 'UniRef100_A0A7L3C091',\n",
       " 'UniRef100_A0A7K7HT41',\n",
       " 'UniRef100_A0A1A8FPM8',\n",
       " 'UniRef100_A0A6P6M7T5',\n",
       " 'UniRef100_UPI00145BB007',\n",
       " 'UniRef100_A0A7L4LY12',\n",
       " 'UniRef100_A0A7L3F8X9',\n",
       " 'UniRef100_A0A6P8PPG6',\n",
       " 'UniRef100_A0A7L3T573',\n",
       " 'UniRef100_A0A7K8TW41',\n",
       " 'UniRef100_A0A671LEF9',\n",
       " 'UniRef100_A0A7L0REK7',\n",
       " 'UniRef100_A0A851PJK1',\n",
       " 'UniRef100_A0A3B5A643',\n",
       " 'UniRef100_A0A7K8JZU3',\n",
       " 'UniRef100_A0A851J5S8',\n",
       " 'UniRef100_A0A7L4ALU3',\n",
       " 'UniRef100_A0A7K7UHC5',\n",
       " 'UniRef100_A0A401SUW5',\n",
       " 'UniRef100_A0A7L1DHF5',\n",
       " 'UniRef100_A0A7K9XW48',\n",
       " 'UniRef100_UPI001678360F',\n",
       " 'UniRef100_UPI0018EB8CDA',\n",
       " 'UniRef100_A0A7K4YL65',\n",
       " 'UniRef100_UPI001377EA6C',\n",
       " 'UniRef100_A0A7K5YCI6',\n",
       " 'UniRef100_A0A7K8PF00',\n",
       " 'UniRef100_A0A7K6GMA1',\n",
       " 'UniRef100_A0A2U9C0N8',\n",
       " 'UniRef100_UPI00148689CF',\n",
       " 'UniRef100_UPI000C310613',\n",
       " 'UniRef100_A0A091IJJ2',\n",
       " 'UniRef100_A0A3P8TRJ2',\n",
       " 'UniRef100_A0A7K9U8E5',\n",
       " 'UniRef100_A0A7K7N9B3',\n",
       " 'UniRef100_UPI0004F0CDA8',\n",
       " 'UniRef100_A0A822IIJ4',\n",
       " 'UniRef100_UPI0019558116',\n",
       " 'UniRef100_A0A7L3S0E5',\n",
       " 'UniRef100_G5C532',\n",
       " 'UniRef100_A0A7L0SGB0',\n",
       " 'UniRef100_UPI000F0A3E4C',\n",
       " 'UniRef100_A0A7K5X2X6',\n",
       " 'UniRef100_A0A672LXS8',\n",
       " 'UniRef100_UPI00072E9971',\n",
       " 'UniRef100_A0A7L3ZNC5',\n",
       " 'UniRef100_A0A7L4F5A7',\n",
       " 'UniRef100_UPI0015602F54',\n",
       " 'UniRef100_A0A7K6NUE2',\n",
       " 'UniRef100_UPI00106EB1EE',\n",
       " 'UniRef100_A0A7L1HB01',\n",
       " 'UniRef100_UPI00105679F0',\n",
       " 'UniRef100_A0A7L1XII7',\n",
       " 'UniRef100_A0A7K6RKV2',\n",
       " 'UniRef100_A0A665TQ56',\n",
       " 'UniRef100_A0A7L0CY91',\n",
       " 'UniRef100_UPI0008753FEE',\n",
       " 'UniRef100_UPI0013AFCD06',\n",
       " 'UniRef100_A0A6P7MZV6',\n",
       " 'UniRef100_UPI001560B304',\n",
       " 'UniRef100_A0A7L0GEX0',\n",
       " 'UniRef100_A0A7K8KMC6',\n",
       " 'UniRef100_A0A7L1WLC3',\n",
       " 'UniRef100_UPI00125D4454',\n",
       " 'UniRef100_A0A3Q3N3S6',\n",
       " 'UniRef100_H2LKT1',\n",
       " 'UniRef100_UPI001ABEDEAD',\n",
       " 'UniRef100_UPI000B906EC8',\n",
       " 'UniRef100_A0A7K7F0V3',\n",
       " 'UniRef100_UPI0011EA0B1E',\n",
       " 'UniRef100_A0A4W3H5L7',\n",
       " 'UniRef100_A0A2K5YNE3',\n",
       " 'UniRef100_UPI00155EAD72',\n",
       " 'UniRef100_A0A3P9H848',\n",
       " 'UniRef100_UPI001175D756',\n",
       " 'UniRef100_A0A4W2E9K2',\n",
       " 'UniRef100_A0A822DWU6',\n",
       " 'UniRef100_UPI00187C4177',\n",
       " 'UniRef100_A0A672M250',\n",
       " 'UniRef100_A0A2I4BTY1',\n",
       " 'UniRef100_UPI000BBE2561',\n",
       " 'UniRef100_A0A7K6DTT6',\n",
       " 'UniRef100_A0A6P8UFL9',\n",
       " 'UniRef100_UPI00146C4AD7',\n",
       " 'UniRef100_A0A7J6A5B4',\n",
       " 'UniRef100_A0A4W4HI70',\n",
       " 'UniRef100_A0A7L3AFP6',\n",
       " 'UniRef100_UPI00072DFB7D',\n",
       " 'UniRef100_A0A7K6WD92',\n",
       " 'UniRef100_UPI0011142A1E',\n",
       " 'UniRef100_A0A671V0X1',\n",
       " 'UniRef100_UPI0015E1357D',\n",
       " 'UniRef100_A0A087X8P2',\n",
       " 'UniRef100_G1RDY3',\n",
       " 'UniRef100_UPI0018F447B2',\n",
       " 'UniRef100_A0A672ICS7',\n",
       " 'UniRef100_UPI000C7F1001',\n",
       " 'UniRef100_UPI0003836C38',\n",
       " 'UniRef100_UPI0004A49A18',\n",
       " 'UniRef100_A0A665TFH7',\n",
       " 'UniRef100_A0A6I9NXF3',\n",
       " 'UniRef100_A0A7L0XYV1',\n",
       " 'UniRef100_UPI001469C93C',\n",
       " 'UniRef100_I3J263',\n",
       " 'UniRef100_UPI001B3AAC1A',\n",
       " 'UniRef100_A0A4U5US25',\n",
       " 'UniRef100_W5U9U8',\n",
       " 'UniRef100_UPI0010A04B89',\n",
       " 'UniRef100_UPI001962845C',\n",
       " 'UniRef100_M3X577',\n",
       " 'UniRef100_A0A3Q2X4N4',\n",
       " 'UniRef100_UPI000BBD80BB',\n",
       " 'UniRef100_A0A7K9DSC9',\n",
       " 'UniRef100_UPI00165C6CA2',\n",
       " 'UniRef100_A0A669EN16',\n",
       " 'UniRef100_A0A670J4A7',\n",
       " 'UniRef100_UPI001176BD6D',\n",
       " 'UniRef100_UPI000901F105',\n",
       " 'UniRef100_A0A665TQ08',\n",
       " 'UniRef100_UPI0018ED4C6B',\n",
       " 'UniRef100_UPI0011143E7C',\n",
       " 'UniRef100_UPI0015E116A1',\n",
       " 'UniRef100_M4AAP1',\n",
       " 'UniRef100_A0A401NYQ5',\n",
       " 'UniRef100_UPI0010163A44',\n",
       " 'UniRef100_UPI0012EE5976',\n",
       " 'UniRef100_A0A3Q3KKJ0',\n",
       " 'UniRef100_UPI0011262FD2',\n",
       " 'UniRef100_UPI001A9997E5',\n",
       " 'UniRef100_UPI00155F8E08',\n",
       " 'UniRef100_UPI00097D2C48',\n",
       " 'UniRef100_UPI001B3AC098',\n",
       " 'UniRef100_UPI0018E20760',\n",
       " 'UniRef100_UPI001145E543',\n",
       " 'UniRef100_UPI00144736D1',\n",
       " 'UniRef100_A0A671LK19',\n",
       " 'UniRef100_A0A5F5XE02',\n",
       " 'UniRef100_W5MIG1',\n",
       " 'UniRef100_UPI00148CE4BB',\n",
       " 'UniRef100_UPI0018861437',\n",
       " 'UniRef100_UPI000C6F8BE8',\n",
       " 'UniRef100_A0A6P6M8Q6',\n",
       " 'UniRef100_UPI001863BF19',\n",
       " ...]"
      ]
     },
     "execution_count": 12,
     "metadata": {},
     "output_type": "execute_result"
    }
   ],
   "source": [
    "base_ids"
   ]
  },
  {
   "cell_type": "code",
   "execution_count": 13,
   "metadata": {},
   "outputs": [
    {
     "name": "stderr",
     "output_type": "stream",
     "text": [
      "INFO:aide_predict.utils.msa:Loaded MSA with 4743 sequences, target sequence: >UBE4B_MOUSE/1-1173\n",
      "INFO:aide_predict.utils.msa:Original width of MSA: 1173\n",
      "INFO:aide_predict.utils.msa:Removed gap columns in target sequence: remaining width 1173\n",
      "INFO:aide_predict.utils.msa:Proportion of sequences dropped due to fraction of gaps: 0.0%\n",
      "INFO:aide_predict.utils.msa:Proportion of non-focus columns removed: 23.53%\n",
      "/Users/ekomp/Documents/repos/lab/aide_predict/aide_predict/utils/msa.py:166: FutureWarning: Series.__getitem__ treating keys as positions is deprecated. In a future version, integer keys will always be treated as labels (consistent with DataFrame behavior). To access a value by position, use `ser.iloc[pos]`\n",
      "  self.seq_name_to_sequence[msa_df.index[seq_idx]] = msa_df.sequence[seq_idx]\n",
      "INFO:aide_predict.utils.msa:Encoding sequences\n",
      "INFO:aide_predict.utils.msa:Computing sequence weights\n",
      "100%|██████████| 4681/4681 [00:28<00:00, 162.74it/s]\n",
      "INFO:aide_predict.utils.msa:Neff (effictive sequence count) = 674.2336460913948\n",
      "INFO:aide_predict.utils.msa:Applying manual sequence weights as a factor\n",
      "INFO:aide_predict.utils.msa:Data Shape = (4681, 897, 20)\n"
     ]
    }
   ],
   "source": [
    "msa = MSAProcessing(args)\n",
    "msa.process(\n",
    "    '/Users/ekomp/Documents/datasets/protein_gym/msas/UBE4B_MOUSE_full_11-26-2021_b05.a2m', \n",
    "    weights_location='/Users/ekomp/Documents/repos/lab/aide_predict/notebooks/tmp/our_weights_manual.npy',\n",
    "    focus_seq_id='UBE4B_MOUSE',\n",
    "    new_a2m_location='./tmp/our_msa_weighted.a2m',\n",
    "    # ADD ADDITIONAL WEIGHTS\n",
    "    # since the second colum of both seqs is 'E' we should see an increase in the weight of 'E' for that column\n",
    "    # in the prior\n",
    "    additional_weights=dict(zip(base_ids[3:5], [100, 100]))\n",
    ")"
   ]
  },
  {
   "cell_type": "markdown",
   "metadata": {},
   "source": [
    "Switch over to tranception, load the weights, and see the change"
   ]
  },
  {
   "cell_type": "code",
   "execution_count": 1,
   "metadata": {},
   "outputs": [],
   "source": [
    "import os"
   ]
  },
  {
   "cell_type": "code",
   "execution_count": 2,
   "metadata": {},
   "outputs": [],
   "source": [
    "os.chdir('/Users/ekomp/Documents/repos/Tranception')"
   ]
  },
  {
   "cell_type": "code",
   "execution_count": 3,
   "metadata": {},
   "outputs": [
    {
     "name": "stdout",
     "output_type": "stream",
     "text": [
      "Intel MKL WARNING: Support of Intel(R) Streaming SIMD Extensions 4.2 (Intel(R) SSE4.2) enabled only processors has been deprecated. Intel oneAPI Math Kernel Library 2025.0 will require Intel(R) Advanced Vector Extensions (Intel(R) AVX) instructions.\n",
      "Intel MKL WARNING: Support of Intel(R) Streaming SIMD Extensions 4.2 (Intel(R) SSE4.2) enabled only processors has been deprecated. Intel oneAPI Math Kernel Library 2025.0 will require Intel(R) Advanced Vector Extensions (Intel(R) AVX) instructions.\n"
     ]
    }
   ],
   "source": [
    "from  tranception.utils.msa_utils import get_msa_prior\n",
    "from transformers import PreTrainedTokenizerFast"
   ]
  },
  {
   "cell_type": "code",
   "execution_count": 4,
   "metadata": {},
   "outputs": [],
   "source": [
    "tokenizer = PreTrainedTokenizerFast(tokenizer_file=\"./tranception/utils/tokenizers/Basic_tokenizer\",\n",
    "                                                unk_token=\"[UNK]\",\n",
    "                                                sep_token=\"[SEP]\",\n",
    "                                                pad_token=\"[PAD]\",\n",
    "                                                cls_token=\"[CLS]\",\n",
    "                                                mask_token=\"[MASK]\"\n",
    "                                            )"
   ]
  },
  {
   "cell_type": "code",
   "execution_count": 5,
   "metadata": {},
   "outputs": [
    {
     "name": "stdout",
     "output_type": "stream",
     "text": [
      "Target seq len is 1173, MSA length is 1173, start position is 0, end position is 1173 and vocab size is 25\n",
      "Num sequences in MSA pre filtering: 4743\n",
      "Num sequences in MSA post filtering: 4222\n",
      "Using weights in /Users/ekomp/Documents/repos/lab/aide_predict/notebooks/tmp/our_weights_manual.npy for sequences in MSA.\n",
      "Dropped 44 sequences from MSA due to absent sequence weights\n"
     ]
    }
   ],
   "source": [
    "# from original msa\n",
    "our_prior = get_msa_prior(\n",
    "    MSA_data_file='/Users/ekomp/Documents/datasets/protein_gym/msas/UBE4B_MOUSE_full_11-26-2021_b05.a2m',\n",
    "    MSA_weight_file_name='/Users/ekomp/Documents/repos/lab/aide_predict/notebooks/tmp/our_weights_manual.npy',\n",
    "    MSA_start=0,\n",
    "    MSA_end=1173,\n",
    "    len_target_seq=1173,\n",
    "    vocab=tokenizer.get_vocab(),\n",
    "    verbose=True\n",
    ")"
   ]
  },
  {
   "cell_type": "code",
   "execution_count": 6,
   "metadata": {},
   "outputs": [
    {
     "data": {
      "text/plain": [
       "(1173, 25)"
      ]
     },
     "execution_count": 6,
     "metadata": {},
     "output_type": "execute_result"
    }
   ],
   "source": [
    "our_prior.shape"
   ]
  },
  {
   "cell_type": "code",
   "execution_count": 7,
   "metadata": {},
   "outputs": [
    {
     "data": {
      "text/plain": [
       "array([[8.73411105e-05, 8.73411105e-05, 8.73411105e-05, ...,\n",
       "        8.73411105e-05, 8.73411105e-05, 8.73411105e-05],\n",
       "       [7.76833010e-05, 7.76833010e-05, 7.76833010e-05, ...,\n",
       "        7.76833010e-05, 7.76833010e-05, 7.76833010e-05],\n",
       "       [6.70171272e-05, 6.70171272e-05, 6.70171272e-05, ...,\n",
       "        6.70171272e-05, 6.70171272e-05, 6.70171272e-05],\n",
       "       ...,\n",
       "       [7.08392713e-03, 7.08392713e-03, 7.08392713e-03, ...,\n",
       "        7.08392713e-03, 7.08392713e-03, 7.08392713e-03],\n",
       "       [7.19371407e-03, 7.19371407e-03, 7.19371407e-03, ...,\n",
       "        7.19371407e-03, 7.19371407e-03, 7.19371407e-03],\n",
       "       [3.97867667e-02, 3.97867667e-02, 3.97867667e-02, ...,\n",
       "        3.97867667e-02, 3.97867667e-02, 3.97867667e-02]])"
      ]
     },
     "execution_count": 7,
     "metadata": {},
     "output_type": "execute_result"
    }
   ],
   "source": [
    "our_prior"
   ]
  },
  {
   "cell_type": "code",
   "execution_count": 8,
   "metadata": {},
   "outputs": [
    {
     "data": {
      "text/plain": [
       "<BarContainer object of 25 artists>"
      ]
     },
     "execution_count": 8,
     "metadata": {},
     "output_type": "execute_result"
    },
    {
     "data": {
      "image/png": "[encoded data removed]",
      "text/plain": [
       "<Figure size 640x480 with 1 Axes>"
      ]
     },
     "metadata": {},
     "output_type": "display_data"
    }
   ],
   "source": [
    "# show the distribution over AA of the third column\n",
    "import matplotlib.pyplot as plt\n",
    "plt.bar(tokenizer.convert_ids_to_tokens(range(25)), our_prior[2,:])"
   ]
  },
  {
   "cell_type": "markdown",
   "metadata": {},
   "source": [
    "they look about the same. checl values"
   ]
  },
  {
   "cell_type": "code",
   "execution_count": 10,
   "metadata": {},
   "outputs": [],
   "source": [
    "import numpy as np"
   ]
  },
  {
   "cell_type": "code",
   "execution_count": 11,
   "metadata": {},
   "outputs": [],
   "source": [
    "their_prior = np.load('/Users/ekomp/Documents/repos/lab/aide_predict/notebooks/tmp/their_prior.npy')"
   ]
  },
  {
   "cell_type": "code",
   "execution_count": 12,
   "metadata": {},
   "outputs": [
    {
     "data": {
      "text/plain": [
       "array([6.71182114e-05, 6.71182114e-05, 6.71182114e-05, 6.71182114e-05,\n",
       "       6.71182114e-05, 6.71182114e-05, 6.71182114e-05, 1.28942932e-02,\n",
       "       8.50022550e-01, 6.71182114e-05, 1.81140094e-02, 6.71182114e-05,\n",
       "       6.71182114e-05, 6.71182114e-05, 6.71182114e-05, 6.71182114e-05,\n",
       "       3.91527071e-03, 6.71182114e-05, 1.07270747e-01, 9.42952551e-05,\n",
       "       6.71182114e-05, 6.48070571e-03, 6.71182114e-05, 6.71182114e-05,\n",
       "       6.71182114e-05])"
      ]
     },
     "execution_count": 12,
     "metadata": {},
     "output_type": "execute_result"
    }
   ],
   "source": [
    "their_prior[2,:]"
   ]
  },
  {
   "cell_type": "code",
   "execution_count": 15,
   "metadata": {},
   "outputs": [
    {
     "data": {
      "text/plain": [
       "<BarContainer object of 25 artists>"
      ]
     },
     "execution_count": 15,
     "metadata": {},
     "output_type": "execute_result"
    },
    {
     "data": {
      "image/png": "[encoded data removed]",
      "text/plain": [
       "<Figure size 640x480 with 1 Axes>"
      ]
     },
     "metadata": {},
     "output_type": "display_data"
    }
   ],
   "source": [
    "plt.bar(tokenizer.convert_ids_to_tokens(range(25)), our_prior[2,:] - their_prior[2,:])\n"
   ]
  },
  {
   "cell_type": "code",
   "execution_count": 16,
   "metadata": {},
   "outputs": [],
   "source": [
    "# It worked!"
   ]
  },
  {
   "cell_type": "code",
   "execution_count": null,
   "metadata": {},
   "outputs": [],
   "source": []
  }
 ],
 "metadata": {
  "kernelspec": {
   "display_name": "aidep",
   "language": "python",
   "name": "python3"
  },
  "language_info": {
   "codemirror_mode": {
    "name": "ipython",
    "version": 3
   },
   "file_extension": ".py",
   "mimetype": "text/x-python",
   "name": "python",
   "nbconvert_exporter": "python",
   "pygments_lexer": "ipython3",
   "version": "3.8.19"
  }
 },
 "nbformat": 4,
 "nbformat_minor": 2
}
